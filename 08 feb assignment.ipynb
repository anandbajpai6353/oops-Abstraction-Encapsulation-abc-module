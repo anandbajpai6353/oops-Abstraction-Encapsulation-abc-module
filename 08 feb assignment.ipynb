{
 "cells": [
  {
   "cell_type": "markdown",
   "id": "4c5b5984-251b-48e9-be05-dd048dbfda14",
   "metadata": {},
   "source": [
    "Q1. What is Abstraction in OOps? Explain with an example."
   ]
  },
  {
   "cell_type": "markdown",
   "id": "d1e97f52-393d-44e5-b236-bad8fbf4e54d",
   "metadata": {},
   "source": [
    "In object-oriented programming (OOP), abstraction is a concept that allows you to create classes that provide a simplified and essential representation of real-world objects. It focuses on defining the essential characteristics and behaviors of an object while hiding unnecessary details.\n",
    "\n",
    "Abstraction helps in creating complex systems by breaking them down into smaller, manageable modules. It enables you to work at a higher level of abstraction, allowing you to think in terms of objects and their interactions rather than dealing with low-level implementation details.\n",
    "\n",
    "In Python, you can achieve abstraction through abstract classes and interfaces. An abstract class is a class that cannot be instantiated and is meant to be subclassed. It defines abstract methods, which are methods without any implementation. Subclasses of an abstract class are required to provide implementations for these abstract methods.\n",
    "\n",
    "Here's an example to illustrate abstraction in Python:"
   ]
  },
  {
   "cell_type": "code",
   "execution_count": 2,
   "id": "4d9a70a0-ca0c-449d-b2fa-cfe09d406867",
   "metadata": {},
   "outputs": [
    {
     "name": "stdout",
     "output_type": "stream",
     "text": [
      "15\n",
      "16\n",
      "50.24\n",
      "25.12\n"
     ]
    }
   ],
   "source": [
    "from abc import ABC, abstractmethod\n",
    "\n",
    "class Shape(ABC):\n",
    "    @abstractmethod\n",
    "    def area(self):\n",
    "        pass\n",
    "\n",
    "    @abstractmethod\n",
    "    def perimeter(self):\n",
    "        pass\n",
    "\n",
    "class Rectangle(Shape):\n",
    "    def __init__(self, length, width):\n",
    "        self.length = length\n",
    "        self.width = width\n",
    "\n",
    "    def area(self):\n",
    "        return self.length * self.width\n",
    "\n",
    "    def perimeter(self):\n",
    "        return 2 * (self.length + self.width)\n",
    "\n",
    "class Circle(Shape):\n",
    "    def __init__(self, radius):\n",
    "        self.radius = radius\n",
    "\n",
    "    def area(self):\n",
    "        return 3.14 * self.radius * self.radius\n",
    "\n",
    "    def perimeter(self):\n",
    "        return 2 * 3.14 * self.radius\n",
    "\n",
    "# Creating objects of subclasses\n",
    "rectangle = Rectangle(5, 3)\n",
    "circle = Circle(4)\n",
    "\n",
    "# Accessing methods through the objects\n",
    "print(rectangle.area())  \n",
    "print(rectangle.perimeter()) \n",
    "print(circle.area())  \n",
    "print(circle.perimeter())  \n"
   ]
  },
  {
   "cell_type": "raw",
   "id": "00a04708-17ed-456d-ba87-9b58ac52f6a8",
   "metadata": {},
   "source": []
  },
  {
   "cell_type": "markdown",
   "id": "d1ba814f-0cd6-4869-ae4c-124b3b428096",
   "metadata": {},
   "source": [
    "Q2. Differentiate between Abstraction and Encapsulation. Explain with an example."
   ]
  },
  {
   "cell_type": "markdown",
   "id": "271f9a8c-959e-4fe3-9e36-5c8224c75947",
   "metadata": {},
   "source": [
    "Abstraction and encapsulation are two important concepts in object-oriented programming (OOP) that promote code organization, modularity, and information hiding. Although they are related, they serve different purposes:\n",
    "\n",
    "Abstraction:\n",
    "Abstraction focuses on defining the essential characteristics and behaviors of an object while hiding unnecessary details. It allows you to create simplified representations of real-world objects by breaking down complex systems into manageable modules. Abstraction is achieved through abstract classes and interfaces in most programming languages.\n",
    "Example:\n",
    "Consider a car as an object. In an abstract sense, a car can be described by its properties (color, model, engine capacity) and behaviors (accelerate, brake, honk). However, the internal mechanisms and implementation details of the car's engine or transmission are not relevant at the abstract level. By abstracting the car object, we can focus on its essential characteristics and behaviors without getting bogged down in low-level details.\n",
    "\n",
    "Encapsulation:\n",
    "Encapsulation is the process of bundling data and methods/functions that operate on that data into a single unit called a class. It combines the data and the operations on that data, providing data hiding and protection. Encapsulation allows for the organization and control of access to an object's internal state, preventing direct manipulation and ensuring data integrity.\n",
    "Example:\n",
    "Let's consider a class representing a bank account:"
   ]
  },
  {
   "cell_type": "code",
   "execution_count": 4,
   "id": "1e4a389f-295e-4533-9017-41cab4a09cfe",
   "metadata": {},
   "outputs": [],
   "source": [
    "class BankAccount:\n",
    "    def __init__(self, account_number, balance):\n",
    "        self.account_number = account_number\n",
    "        self.balance = balance\n",
    "\n",
    "    def deposit(self, amount):\n",
    "        self.balance += amount\n",
    "\n",
    "    def withdraw(self, amount):\n",
    "        if amount <= self.balance:\n",
    "            self.balance -= amount\n",
    "        else:\n",
    "            print(\"Insufficient balance\")\n",
    "\n",
    "    def get_balance(self):\n",
    "        return self.balance\n"
   ]
  },
  {
   "cell_type": "code",
   "execution_count": 5,
   "id": "68aa8641-3adc-4c6e-b496-d128ec3c91a1",
   "metadata": {},
   "outputs": [
    {
     "name": "stdout",
     "output_type": "stream",
     "text": [
      "1000\n",
      "1500\n",
      "1300\n",
      "Insufficient balance\n"
     ]
    }
   ],
   "source": [
    "account = BankAccount(\"123456789\", 1000)  # Create a BankAccount instance\n",
    "\n",
    "print(account.get_balance())  # Output: 1000\n",
    "\n",
    "account.deposit(500)  # Deposit 500 into the account\n",
    "print(account.get_balance())  # Output: 1500\n",
    "\n",
    "account.withdraw(200)  # Withdraw 200 from the account\n",
    "print(account.get_balance())  # Output: 1300\n",
    "\n",
    "account.withdraw(2000)  # Attempt to withdraw more than the balance\n",
    "# Output: Insufficient balance\n"
   ]
  },
  {
   "cell_type": "raw",
   "id": "2953b74e-7844-4720-b73e-cc076b37309f",
   "metadata": {},
   "source": []
  },
  {
   "cell_type": "markdown",
   "id": "f19425c4-89bf-4906-aae8-5ccc6a566133",
   "metadata": {},
   "source": [
    "Q3. What is abc module in python? Why is it used?"
   ]
  },
  {
   "cell_type": "markdown",
   "id": "4dddd10c-671f-4d31-aafc-0e96729aac9b",
   "metadata": {},
   "source": [
    "In Python, the abc module stands for \"Abstract Base Classes.\" It is a module that provides mechanisms for defining abstract base classes in Python. Abstract base classes are classes that are meant to be subclassed, but not instantiated directly. They define a common interface or a set of methods that subclasses are expected to implement.\n",
    "\n",
    "The abc module provides the ABC class, which is the base class for defining abstract base classes. By subclassing ABC and using the @abstractmethod decorator, you can define abstract methods within your class. An abstract method is a method declaration without an implementation. Subclasses of the abstract base class are required to provide an implementation for these abstract methods."
   ]
  },
  {
   "cell_type": "markdown",
   "id": "cd668020-1795-474f-b5e8-4b5633d35710",
   "metadata": {},
   "source": [
    "example:"
   ]
  },
  {
   "cell_type": "code",
   "execution_count": 7,
   "id": "e2565069-a920-490f-8362-3f2f74d560f0",
   "metadata": {},
   "outputs": [
    {
     "name": "stdout",
     "output_type": "stream",
     "text": [
      "78.5\n",
      "31.400000000000002\n"
     ]
    }
   ],
   "source": [
    "from abc import ABC, abstractmethod\n",
    "\n",
    "class Shape(ABC):\n",
    "    @abstractmethod\n",
    "    def area(self):\n",
    "        pass\n",
    "\n",
    "    @abstractmethod\n",
    "    def perimeter(self):\n",
    "        pass\n",
    "\n",
    "class Circle(Shape):\n",
    "    def __init__(self, radius):\n",
    "        self.radius = radius\n",
    "\n",
    "    def area(self):\n",
    "        return 3.14 * self.radius * self.radius\n",
    "\n",
    "    def perimeter(self):\n",
    "        return 2 * 3.14 * self.radius\n",
    "\n",
    "# Trying to instantiate an abstract class will raise an error\n",
    "# shape = Shape()  # Raises TypeError\n",
    "\n",
    "circle = Circle(5)\n",
    "print(circle.area())      \n",
    "print(circle.perimeter()) \n"
   ]
  },
  {
   "cell_type": "raw",
   "id": "4c64b937-e02b-4041-a230-6364da8aa26c",
   "metadata": {},
   "source": []
  },
  {
   "cell_type": "markdown",
   "id": "9fbd2418-4bc1-4e68-9f89-1f12b83e1952",
   "metadata": {},
   "source": [
    "Q4. How can we achieve data abstraction?"
   ]
  },
  {
   "cell_type": "markdown",
   "id": "33d1b721-2aa0-4179-8858-487f2cdb6a48",
   "metadata": {},
   "source": [
    "Data abstraction in programming refers to the concept of hiding internal details and complexity of data structures or objects and providing a simplified and consistent interface for interacting with them. It allows users to work with high-level concepts and operations without needing to understand the underlying implementation.\n",
    "\n",
    "In Python, there are several techniques to achieve data abstraction:\n",
    "\n",
    "1. Classes and Objects: Encapsulating data and behavior within classes and providing public methods to interact with the data is a fundamental way to achieve data abstraction. The class acts as a container for data attributes and methods, and the objects created from the class provide the interface for accessing and manipulating the data.\n",
    "\n",
    "2. Access Modifiers: Python does not have built-in access modifiers like public, private, or protected, but conventions are used to indicate the intended visibility of attributes and methods. By convention, attributes or methods starting with a single underscore (_) are considered internal or private to the class and should not be accessed directly from outside the class. This convention helps in achieving encapsulation and data hiding.\n",
    "\n",
    "3. Property Decorators: Python provides property decorators (`@property`, `@<attribute>.setter`, `@<attribute>.deleter`) that allow you to define getter, setter, and deleter methods for attributes. By using property decorators, you can control the access to attributes, perform validation or computation on attribute values, and provide a consistent interface for accessing and modifying the data.\n",
    "\n",
    "4. Abstract Base Classes (ABCs): As mentioned earlier, the `abc` module in Python allows you to define abstract base classes. Abstract base classes can define abstract methods that must be implemented by concrete subclasses. By defining abstract base classes, you can enforce a consistent interface across multiple subclasses and achieve data abstraction by focusing on the high-level behavior rather than the implementation details.\n",
    "\n",
    "5. Module-Level Functions: You can also achieve a level of data abstraction by organizing related functions within modules. By providing well-defined functions with clear inputs and outputs, you can encapsulate the complexity and hide the implementation details of the underlying algorithms or operations.\n",
    "\n",
    "Overall, achieving data abstraction involves encapsulating data and behavior within classes, controlling access to attributes, defining consistent interfaces through methods or functions, and hiding implementation details. By following these principles, you can create code that is easier to understand, maintain, and use by abstracting away unnecessary complexity."
   ]
  },
  {
   "cell_type": "raw",
   "id": "f24d26ca-67a2-4a14-b285-fc61da9c689e",
   "metadata": {},
   "source": []
  },
  {
   "cell_type": "markdown",
   "id": "4f37b47d-c351-4478-a646-3e5f1edc8dda",
   "metadata": {},
   "source": [
    "Q5. Can we create an instance of an abstract class? Explain your answer."
   ]
  },
  {
   "cell_type": "markdown",
   "id": "e707b8a7-cb9f-413e-af37-335e8c95c389",
   "metadata": {},
   "source": [
    "No, we cannot create an instance of an abstract class directly in Python. Abstract classes are meant to be subclasses, providing a common interface or set of methods that the subclasses are expected to implement.\n",
    "\n",
    "The purpose of an abstract class is to serve as a blueprint or a contract for its subclasses, defining the required methods that must be implemented. Abstract methods declared within an abstract class do not provide any implementation; they only define the method signature. Subclasses are responsible for providing the implementation for these abstract methods.\n",
    "\n",
    "Attempting to create an instance of an abstract class will raise a \"TypeError\". Here's an example:"
   ]
  },
  {
   "cell_type": "code",
   "execution_count": 8,
   "id": "3c48f5bf-37a4-46ab-93c7-126a9e59baa7",
   "metadata": {},
   "outputs": [
    {
     "ename": "TypeError",
     "evalue": "Can't instantiate abstract class MyAbstractClass with abstract method my_abstract_method",
     "output_type": "error",
     "traceback": [
      "\u001b[0;31m---------------------------------------------------------------------------\u001b[0m",
      "\u001b[0;31mTypeError\u001b[0m                                 Traceback (most recent call last)",
      "Cell \u001b[0;32mIn[8], line 9\u001b[0m\n\u001b[1;32m      6\u001b[0m         \u001b[38;5;28;01mpass\u001b[39;00m\n\u001b[1;32m      8\u001b[0m \u001b[38;5;66;03m# Trying to create an instance of an abstract class will raise an error\u001b[39;00m\n\u001b[0;32m----> 9\u001b[0m instance \u001b[38;5;241m=\u001b[39m \u001b[43mMyAbstractClass\u001b[49m\u001b[43m(\u001b[49m\u001b[43m)\u001b[49m  \n",
      "\u001b[0;31mTypeError\u001b[0m: Can't instantiate abstract class MyAbstractClass with abstract method my_abstract_method"
     ]
    }
   ],
   "source": [
    "from abc import ABC, abstractmethod\n",
    "\n",
    "class MyAbstractClass(ABC):\n",
    "    @abstractmethod\n",
    "    def my_abstract_method(self):\n",
    "        pass\n",
    "\n",
    "# Trying to create an instance of an abstract class will raise an error\n",
    "instance = MyAbstractClass()  \n"
   ]
  },
  {
   "cell_type": "code",
   "execution_count": 11,
   "id": "7bc37485-7cf5-4fe6-a085-2b9601d16d09",
   "metadata": {},
   "outputs": [],
   "source": [
    "class MyConcreteClass(MyAbstractClass):\n",
    "    def my_abstract_method(self):\n",
    "        print(\"Implementation of my_abstract_method\")\n",
    "\n",
    "instance = MyConcreteClass()  \n"
   ]
  },
  {
   "cell_type": "markdown",
   "id": "a84654a2-1f19-4200-aa5b-91c3da7c121b",
   "metadata": {},
   "source": [
    "Thus, abstract classes cannot be instantiated directly, but they serve as a base for creating concrete subclasses that can be instantiated and provide the required implementations."
   ]
  },
  {
   "cell_type": "code",
   "execution_count": null,
   "id": "11c130d5-66ef-4ac8-919b-450e381087b8",
   "metadata": {},
   "outputs": [],
   "source": []
  }
 ],
 "metadata": {
  "kernelspec": {
   "display_name": "Python 3 (ipykernel)",
   "language": "python",
   "name": "python3"
  },
  "language_info": {
   "codemirror_mode": {
    "name": "ipython",
    "version": 3
   },
   "file_extension": ".py",
   "mimetype": "text/x-python",
   "name": "python",
   "nbconvert_exporter": "python",
   "pygments_lexer": "ipython3",
   "version": "3.10.8"
  }
 },
 "nbformat": 4,
 "nbformat_minor": 5
}
